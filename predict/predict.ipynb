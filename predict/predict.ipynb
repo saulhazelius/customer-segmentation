{
 "cells": [
  {
   "cell_type": "code",
   "execution_count": 1,
   "id": "abc9a0f6",
   "metadata": {},
   "outputs": [],
   "source": [
    "import json"
   ]
  },
  {
   "cell_type": "code",
   "execution_count": 2,
   "id": "3b04423a",
   "metadata": {},
   "outputs": [],
   "source": [
    "f = 'customer.json'"
   ]
  },
  {
   "cell_type": "code",
   "execution_count": 3,
   "id": "80533af8",
   "metadata": {},
   "outputs": [],
   "source": [
    "try:\n",
    "    with open(f) as cust:\n",
    "        json_dict = json.load(cust)\n",
    "\n",
    "except ValueError as e:\n",
    "    logging.warning(f\"Invalid JSON: {e}\")"
   ]
  },
  {
   "cell_type": "code",
   "execution_count": 4,
   "id": "94828899",
   "metadata": {},
   "outputs": [
    {
     "data": {
      "text/plain": [
       "{'Year_Birth': 1978,\n",
       " 'Education': 'Graduation',\n",
       " 'Marital_Status': 'Single',\n",
       " 'Income': 38557.0,\n",
       " 'Kidhome': 1,\n",
       " 'Teenhome': 0,\n",
       " 'Recency': 17,\n",
       " 'MntWines': 76,\n",
       " 'MntFruits': 3,\n",
       " 'MntMeatProducts': 31,\n",
       " 'MntFishProducts': 4,\n",
       " 'MntSweetProducts': 4,\n",
       " 'MntGoldProds': 27,\n",
       " 'NumDealsPurchases': 2,\n",
       " 'NumWebPurchases': 3,\n",
       " 'NumCatalogPurchases': 1,\n",
       " 'NumStorePurchases': 3,\n",
       " 'NumWebVisitsMonth': 7,\n",
       " 'Dt_days': 3657}"
      ]
     },
     "execution_count": 4,
     "metadata": {},
     "output_type": "execute_result"
    }
   ],
   "source": [
    "json_dict"
   ]
  },
  {
   "cell_type": "code",
   "execution_count": 5,
   "id": "fff51dea",
   "metadata": {},
   "outputs": [],
   "source": [
    "import joblib"
   ]
  },
  {
   "cell_type": "code",
   "execution_count": 6,
   "id": "292d36e8",
   "metadata": {},
   "outputs": [],
   "source": [
    "dv, sc, pca, model = joblib.load('../model/segmentation.bin')"
   ]
  },
  {
   "cell_type": "code",
   "execution_count": 7,
   "id": "dffabebd",
   "metadata": {},
   "outputs": [],
   "source": [
    "data = dv.transform(json_dict)"
   ]
  },
  {
   "cell_type": "code",
   "execution_count": 8,
   "id": "bc7c19f9",
   "metadata": {},
   "outputs": [
    {
     "data": {
      "text/plain": [
       "array([[3.6570e+03, 0.0000e+00, 0.0000e+00, 1.0000e+00, 0.0000e+00,\n",
       "        0.0000e+00, 3.8557e+04, 1.0000e+00, 0.0000e+00, 0.0000e+00,\n",
       "        0.0000e+00, 0.0000e+00, 1.0000e+00, 0.0000e+00, 0.0000e+00,\n",
       "        0.0000e+00, 4.0000e+00, 3.0000e+00, 2.7000e+01, 3.1000e+01,\n",
       "        4.0000e+00, 7.6000e+01, 1.0000e+00, 2.0000e+00, 3.0000e+00,\n",
       "        3.0000e+00, 7.0000e+00, 1.7000e+01, 0.0000e+00, 1.9780e+03]])"
      ]
     },
     "execution_count": 8,
     "metadata": {},
     "output_type": "execute_result"
    }
   ],
   "source": [
    "data"
   ]
  },
  {
   "cell_type": "code",
   "execution_count": 9,
   "id": "7fece6fd",
   "metadata": {},
   "outputs": [],
   "source": [
    "x_sc = sc.transform(data)"
   ]
  },
  {
   "cell_type": "code",
   "execution_count": 10,
   "id": "992eb1d2",
   "metadata": {},
   "outputs": [],
   "source": [
    "x_pca = pca.transform(x_sc)"
   ]
  },
  {
   "cell_type": "code",
   "execution_count": 11,
   "id": "f36a0114",
   "metadata": {},
   "outputs": [],
   "source": [
    "prediction = model.predict(x_pca)"
   ]
  },
  {
   "cell_type": "code",
   "execution_count": 12,
   "id": "e5959c08",
   "metadata": {},
   "outputs": [
    {
     "data": {
      "text/plain": [
       "array([1], dtype=int32)"
      ]
     },
     "execution_count": 12,
     "metadata": {},
     "output_type": "execute_result"
    }
   ],
   "source": [
    "prediction"
   ]
  }
 ],
 "metadata": {
  "kernelspec": {
   "display_name": "Python 3 (ipykernel)",
   "language": "python",
   "name": "python3"
  },
  "language_info": {
   "codemirror_mode": {
    "name": "ipython",
    "version": 3
   },
   "file_extension": ".py",
   "mimetype": "text/x-python",
   "name": "python",
   "nbconvert_exporter": "python",
   "pygments_lexer": "ipython3",
   "version": "3.9.12"
  }
 },
 "nbformat": 4,
 "nbformat_minor": 5
}
